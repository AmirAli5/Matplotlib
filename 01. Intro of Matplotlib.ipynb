{
 "cells": [
  {
   "cell_type": "markdown",
   "metadata": {},
   "source": [
    "# What is Matplotlib?\n",
    "* Matplotlib is a 2D and 3D graph plotting python library. \n",
    "* It produce high quality graph from data\n",
    "* It also supports to create animations and images.\n",
    "\n",
    "\n",
    "![](https://miro.medium.com/max/9450/1*OAFEIg9w1XHyZk0xBud14A.png)"
   ]
  },
  {
   "cell_type": "markdown",
   "metadata": {},
   "source": [
    "# Why we use Matplotlib?\n",
    "As a machine learning engineer or data scientist, data analysis is a part of model development.  Looking numeric data, you can’t get correct insights. So the best way to plot a graph using that data and take a decision for further process."
   ]
  },
  {
   "cell_type": "markdown",
   "metadata": {},
   "source": [
    "# History of Matplotlib\n",
    "The American neurologist John D. Hunter (1968 – 2012), wanted to draw some graph regarding their project. This was the main reason to develop matplotlib python graph plotting library. The matplotlib has written in the Python programming language. As initially, It had been released in 2003. Now, matplotlib is the popular graph plotting library. <br>\n",
    "![](https://paw.princeton.edu/sites/default/files/styles/portrait_feature/public/images/content/90-Hunter-John-D.jpg?itok=wDYFhIbT)"
   ]
  },
  {
   "cell_type": "markdown",
   "metadata": {},
   "source": [
    "# Dependency of Matplotlib\n",
    "The matplotlib is depended on some third-party python library like <b>NumPy </b>."
   ]
  },
  {
   "cell_type": "markdown",
   "metadata": {},
   "source": [
    "# Installation of Matplotlib"
   ]
  },
  {
   "cell_type": "markdown",
   "metadata": {},
   "source": [
    "pip install matplotlib\n",
    "\n",
    "         or\n",
    "\n",
    "conda install matplotlib"
   ]
  },
  {
   "cell_type": "markdown",
   "metadata": {},
   "source": [
    "# Import Matplotlib"
   ]
  },
  {
   "cell_type": "code",
   "execution_count": 2,
   "metadata": {},
   "outputs": [],
   "source": [
    "from matplotlib import pyplot as plt    # importing pyplot module from matplotlib library\n",
    "# or\n",
    "import matplotlib.pyplot as plt         # importing pyplot module from "
   ]
  }
 ],
 "metadata": {
  "kernelspec": {
   "display_name": "Python 3",
   "language": "python",
   "name": "python3"
  },
  "language_info": {
   "codemirror_mode": {
    "name": "ipython",
    "version": 3
   },
   "file_extension": ".py",
   "mimetype": "text/x-python",
   "name": "python",
   "nbconvert_exporter": "python",
   "pygments_lexer": "ipython3",
   "version": "3.6.1"
  }
 },
 "nbformat": 4,
 "nbformat_minor": 2
}
